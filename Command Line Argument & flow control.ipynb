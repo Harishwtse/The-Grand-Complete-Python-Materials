{
 "cells": [
  {
   "cell_type": "markdown",
   "id": "1eb3fd73",
   "metadata": {},
   "source": [
    "# 2.1 Command Line Argument & flow control"
   ]
  },
  {
   "cell_type": "markdown",
   "id": "058a22cc",
   "metadata": {},
   "source": [
    "# Mathematetical function (math module)"
   ]
  },
  {
   "cell_type": "markdown",
   "id": "6c819ac3",
   "metadata": {},
   "source": [
    "Whenever we want to start mathematical function we have to import math module     \n",
    "MODULE- it is a collection of functions,variables and classes.     \n",
    "math module consists of several functions to perform mathematical functions.     \n",
    "import math     \n",
    "print(math.sqrt(16))      \n",
    "print(m.pi)      \n",
    "          \n",
    "we can create alias name by using as keyword     \n",
    "import math as mathematics      \n",
    "Once we create alias name, by using that we can access functions and variables of that module.     \n",
    "import math as m       \n",
    "print(m.sqrt(16))      \n",
    "print(m.pi)      \n",
    "               \n",
    "We can import a particular member of a module explicitly as follows        \n",
    "from math import sqrt         \n",
    "from math import sqrt,pi        \n",
    "          \n",
    "If we import a member explicitly then it is not required to use module name while accessing.     \n",
    "from math import sqrt,pi        \n",
    "print(sqrt(16))      \n",
    "print(pi)      \n",
    "print(math.pi) ---- NameError: name 'math' is not defined."
   ]
  },
  {
   "cell_type": "code",
   "execution_count": null,
   "id": "9bd62895",
   "metadata": {},
   "outputs": [],
   "source": [
    "import math as m"
   ]
  },
  {
   "cell_type": "code",
   "execution_count": null,
   "id": "8b40f634",
   "metadata": {},
   "outputs": [],
   "source": [
    "a=10.4 ; b=10.4 ; c=10"
   ]
  },
  {
   "cell_type": "code",
   "execution_count": null,
   "id": "353133f8",
   "metadata": {},
   "outputs": [],
   "source": [
    "print(m.floor(a))  # previous int value"
   ]
  },
  {
   "cell_type": "code",
   "execution_count": null,
   "id": "f54acf37",
   "metadata": {},
   "outputs": [],
   "source": [
    "print(m.ceil(b)) # next int value"
   ]
  },
  {
   "cell_type": "code",
   "execution_count": null,
   "id": "f8f5ec93",
   "metadata": {},
   "outputs": [],
   "source": [
    "#next integer\n",
    "print(m.ceil(c)) "
   ]
  },
  {
   "cell_type": "code",
   "execution_count": null,
   "id": "2f8c5151",
   "metadata": {},
   "outputs": [],
   "source": [
    "#math.pow(base,exponent)\n",
    "print(m.pow(3,4))   "
   ]
  },
  {
   "cell_type": "code",
   "execution_count": null,
   "id": "903ee419",
   "metadata": {},
   "outputs": [],
   "source": [
    "print(m.sqrt(100))"
   ]
  },
  {
   "cell_type": "code",
   "execution_count": null,
   "id": "eff9a279",
   "metadata": {},
   "outputs": [],
   "source": [
    "print(m.log(10))   #log base e 10 or (ln 10) value is 2.302585"
   ]
  },
  {
   "cell_type": "code",
   "execution_count": null,
   "id": "af0da706",
   "metadata": {},
   "outputs": [],
   "source": [
    "print(m.log10(10))  # log base 10 value is 1."
   ]
  },
  {
   "cell_type": "code",
   "execution_count": null,
   "id": "3aedb311",
   "metadata": {},
   "outputs": [],
   "source": [
    "print(m.log2(10))"
   ]
  },
  {
   "cell_type": "code",
   "execution_count": null,
   "id": "2863477c",
   "metadata": {},
   "outputs": [],
   "source": [
    "round(10.6)"
   ]
  },
  {
   "cell_type": "code",
   "execution_count": null,
   "id": "2f10b744",
   "metadata": {},
   "outputs": [],
   "source": [
    "round(2.56756,2)"
   ]
  },
  {
   "cell_type": "code",
   "execution_count": null,
   "id": "038f0465",
   "metadata": {},
   "outputs": [],
   "source": [
    "round(3.4624568,4)"
   ]
  },
  {
   "cell_type": "markdown",
   "id": "ac91996b",
   "metadata": {},
   "source": [
    "Constants in math module like pi, tau, euler's num, infinity and NaN(not a number)            \n",
    "why?--constants will help us save time of writing the values of constant everytime we want to use it, with great precision  "
   ]
  },
  {
   "cell_type": "code",
   "execution_count": null,
   "id": "7be6c6cf",
   "metadata": {},
   "outputs": [],
   "source": [
    "# Print the value of Euler e\n",
    "# e is the euler's number"
   ]
  },
  {
   "cell_type": "code",
   "execution_count": null,
   "id": "43198157",
   "metadata": {},
   "outputs": [],
   "source": [
    "import math"
   ]
  },
  {
   "cell_type": "code",
   "execution_count": null,
   "id": "37f904be",
   "metadata": {},
   "outputs": [],
   "source": []
  },
  {
   "cell_type": "code",
   "execution_count": null,
   "id": "dc2c830d",
   "metadata": {},
   "outputs": [],
   "source": []
  },
  {
   "cell_type": "code",
   "execution_count": null,
   "id": "84ee6cfc",
   "metadata": {},
   "outputs": [],
   "source": [
    "print(math.e)"
   ]
  },
  {
   "cell_type": "code",
   "execution_count": null,
   "id": "1406f790",
   "metadata": {},
   "outputs": [],
   "source": [
    "m.inf"
   ]
  },
  {
   "cell_type": "code",
   "execution_count": null,
   "id": "0048c2de",
   "metadata": {},
   "outputs": [],
   "source": [
    "# Print the value of tau  \n",
    "# Tau is defined as the ratio of the circumference to the radius of a circle. "
   ]
  },
  {
   "cell_type": "code",
   "execution_count": null,
   "id": "696d7b38",
   "metadata": {},
   "outputs": [],
   "source": [
    "# Print the positive infinity \n",
    "#Infinity basically means something which is never-ending or boundless from both directions i.e. negative and positive."
   ]
  },
  {
   "cell_type": "code",
   "execution_count": null,
   "id": "44172ba9",
   "metadata": {},
   "outputs": [],
   "source": [
    "# Print the value of pi\n",
    "# The pi is depicted as either 22/7 or 3.14. "
   ]
  },
  {
   "cell_type": "code",
   "execution_count": null,
   "id": "5a611d0d",
   "metadata": {},
   "outputs": [],
   "source": [
    "print(m.pi)"
   ]
  },
  {
   "cell_type": "code",
   "execution_count": null,
   "id": "6e5920fa",
   "metadata": {},
   "outputs": [],
   "source": [
    "#find the area of a circle by giving and values for radius."
   ]
  },
  {
   "cell_type": "code",
   "execution_count": null,
   "id": "1158e0fd",
   "metadata": {},
   "outputs": [],
   "source": [
    "r =2  \n",
    "a = m.pi * pow(r,2)\n",
    "a"
   ]
  },
  {
   "cell_type": "markdown",
   "id": "5b05ec8b",
   "metadata": {},
   "source": [
    "# Input and Output statement\n",
    "We see different ways in which first we can take input from users and second show output to them."
   ]
  },
  {
   "cell_type": "markdown",
   "id": "698e434a",
   "metadata": {},
   "source": [
    "Que----> Read two num from keyboard and print the minimum value.                    \n",
    "Que----> Write a program to read two numbers from the keyboard and print sum."
   ]
  },
  {
   "cell_type": "code",
   "execution_count": null,
   "id": "b3ce1f76",
   "metadata": {},
   "outputs": [],
   "source": [
    "a = input(\"Enter the first number: \")\n",
    "b = input(\"Enter the second number: \")\n",
    "m = a if(a < b) else b\n",
    "print('The min value:', m)"
   ]
  },
  {
   "cell_type": "code",
   "execution_count": null,
   "id": "61f7ddfc",
   "metadata": {},
   "outputs": [],
   "source": [
    "x = input('Give me your name')"
   ]
  },
  {
   "cell_type": "code",
   "execution_count": null,
   "id": "70738753",
   "metadata": {},
   "outputs": [],
   "source": [
    "y = input(\"Give your age:\")"
   ]
  },
  {
   "cell_type": "code",
   "execution_count": null,
   "id": "33e81348",
   "metadata": {},
   "outputs": [],
   "source": [
    "# Taking input from the user\n",
    "name = input(\"Enter your name: \")\n",
    "print(\"Hello, \" + name)\n",
    "print(type(name))"
   ]
  },
  {
   "cell_type": "code",
   "execution_count": null,
   "id": "5deb837f",
   "metadata": {},
   "outputs": [],
   "source": [
    "# Taking input from the user as integer\n",
    "num = int(input(\"Enter a number: \"))\n",
    "add = num + 1\n",
    "print(add)\n",
    "print('sum=',add)"
   ]
  },
  {
   "cell_type": "code",
   "execution_count": null,
   "id": "95260ed9",
   "metadata": {},
   "outputs": [],
   "source": [
    "# write a program to read employee data from the keyboard and print that data.\n",
    "e_no=int(input(\"Enter Employee No:\"))\n",
    "e_name=input(\"Enter Employee Name:\")\n",
    "e_sal=float(input(\"Enter Employee Salary:\"))\n",
    "e_addr=input(\"Enter Employee Address:\")\n",
    "married=bool(input(\"true / flase\"))\n",
    "\n",
    "print(\"Please Confirm Information\")\n",
    "print(\"Employee No :\",e_no)\n",
    "print(\"Employee Name :\",e_name)\n",
    "print(\"Employee Salary :\",e_sal)\n",
    "print(\"Employee Address :\",e_addr)\n",
    "print(\"Employee Married ? :\",married)"
   ]
  },
  {
   "cell_type": "markdown",
   "id": "04c5e50a",
   "metadata": {},
   "source": [
    "##### eval: eval() function will take the string and evaluate the results."
   ]
  },
  {
   "cell_type": "code",
   "execution_count": null,
   "id": "9aae83c8",
   "metadata": {},
   "outputs": [],
   "source": [
    "x = eval(\"10+20+30\")\n",
    "print(x) "
   ]
  },
  {
   "cell_type": "code",
   "execution_count": null,
   "id": "40e7723c",
   "metadata": {},
   "outputs": [],
   "source": [
    "x = eval(input('Enter Expression : ')) \n",
    "print (x)"
   ]
  },
  {
   "cell_type": "markdown",
   "id": "e4a110f3",
   "metadata": {},
   "source": [
    "##### output statements              \n",
    "We can use print() function to display output.                   \n",
    "##### Form-1: print() without any argument "
   ]
  },
  {
   "cell_type": "code",
   "execution_count": null,
   "id": "82e68c6c",
   "metadata": {},
   "outputs": [],
   "source": [
    "print()"
   ]
  },
  {
   "cell_type": "markdown",
   "id": "819a47cd",
   "metadata": {},
   "source": [
    "##### Form-2: print(String):"
   ]
  },
  {
   "cell_type": "code",
   "execution_count": null,
   "id": "48ed4347",
   "metadata": {},
   "outputs": [],
   "source": [
    "print(\"Hello World\")"
   ]
  },
  {
   "cell_type": "code",
   "execution_count": null,
   "id": "9e580155",
   "metadata": {},
   "outputs": [],
   "source": [
    "#We can use escape characters also\n",
    "print(\"Hello \\n World\") # new line\n",
    "print(\"Hello \\t World\") #tab"
   ]
  },
  {
   "cell_type": "code",
   "execution_count": null,
   "id": "3ec1f192",
   "metadata": {},
   "outputs": [],
   "source": [
    "#We can use repetetion operator (*) in the string\n",
    "print(10*\"Hello\")\n",
    "print(\"Hello\"*10)"
   ]
  },
  {
   "cell_type": "code",
   "execution_count": null,
   "id": "88c551ec",
   "metadata": {},
   "outputs": [],
   "source": [
    "#We can use + operator also\n",
    "print(\"Hello\"+\"World\")       # see to that both the arguments are string type then only it works for concatenation."
   ]
  },
  {
   "cell_type": "code",
   "execution_count": null,
   "id": "c39d7957",
   "metadata": {},
   "outputs": [],
   "source": [
    "print(\"Hello\"+\"World\") \n",
    "print(\"Hello\",\"World\") \n"
   ]
  },
  {
   "cell_type": "markdown",
   "id": "32730b0b",
   "metadata": {},
   "source": [
    "##### Form-3: print() with variable number of arguments:"
   ]
  },
  {
   "cell_type": "code",
   "execution_count": null,
   "id": "46addbd9",
   "metadata": {},
   "outputs": [],
   "source": [
    "a,b,c=10,20,30\n",
    "print(a, b, c)\n",
    "print('The values are-', a,b,c)"
   ]
  },
  {
   "cell_type": "markdown",
   "id": "cb7b93e7",
   "metadata": {},
   "source": [
    "By default output values are seperated by space.If we want we can specify seperator by using \"sep\" attribute"
   ]
  },
  {
   "cell_type": "code",
   "execution_count": null,
   "id": "59d78335",
   "metadata": {},
   "outputs": [],
   "source": [
    "a,b,c=10,20,30\n",
    "print(a,b,c , sep=':') "
   ]
  },
  {
   "cell_type": "code",
   "execution_count": null,
   "id": "f27b2fcb",
   "metadata": {},
   "outputs": [],
   "source": [
    "a,b,c=10,20,30\n",
    "print(a,b,c , sep='*')"
   ]
  },
  {
   "cell_type": "markdown",
   "id": "5b749a0b",
   "metadata": {},
   "source": [
    "##### Form-4:print() with end attribute:"
   ]
  },
  {
   "cell_type": "code",
   "execution_count": null,
   "id": "d4a2854a",
   "metadata": {
    "scrolled": true
   },
   "outputs": [],
   "source": [
    "print(\"Hello\")\n",
    "print(\"World !\")\n",
    "print(\"Im back\")"
   ]
  },
  {
   "cell_type": "markdown",
   "id": "7561dfff",
   "metadata": {},
   "source": [
    "If i want the above output in same line with space"
   ]
  },
  {
   "cell_type": "code",
   "execution_count": null,
   "id": "77c9ec4a",
   "metadata": {},
   "outputs": [],
   "source": [
    "print(\"Hello\", end=\":\")\n",
    "print(\"World !\", end=';')\n",
    "print(\"Im back\", end=\".\")"
   ]
  },
  {
   "cell_type": "markdown",
   "id": "86c37560",
   "metadata": {},
   "source": [
    "##### Form-5: print(object) statement:\n",
    "We can pass any object (like list,tuple,set etc)as argument to the print() statement"
   ]
  },
  {
   "cell_type": "code",
   "execution_count": null,
   "id": "83cb44d9",
   "metadata": {},
   "outputs": [],
   "source": [
    "list=[10,20,30,40, 40, 40 ,40] #square brackets\n",
    "tuple=(10,20,30,40) # parentheses\n",
    "set={10,20,30,40, 40,40} # curly brackets\n",
    "print(list)\n",
    "print(tuple)\n",
    "print(set)"
   ]
  },
  {
   "cell_type": "markdown",
   "id": "f640442c",
   "metadata": {},
   "source": [
    "##### Form-6: print(String,variable list):\n",
    "We can use print() statement with String and any number of arguments. "
   ]
  },
  {
   "cell_type": "code",
   "execution_count": null,
   "id": "e4677b9a",
   "metadata": {},
   "outputs": [],
   "source": [
    "s=\"Nishar\"\n",
    "a=32\n",
    "s1=\"SAS\"\n",
    "s2=\"Python\"\n",
    "print(\"Hello\",s,\"Your Age is\",a)\n",
    "print(\"You are teaching\", s1 , \"and\", s2)"
   ]
  },
  {
   "cell_type": "markdown",
   "id": "eeec4f30",
   "metadata": {},
   "source": [
    "##### Form-7: print(formatted string):\n",
    "%i====>int          \n",
    "%d====>int           \n",
    "%f=====>float          \n",
    "%s======>String type"
   ]
  },
  {
   "cell_type": "code",
   "execution_count": null,
   "id": "97ce977a",
   "metadata": {},
   "outputs": [],
   "source": [
    "a=10.205\n",
    "b=20\n",
    "c=30\n",
    "print(\"a value is %i\" %a)\n",
    "print(\"b value is %f and c value is %i\" %(b,c))  #when using formatted string use dont use (,) use space."
   ]
  },
  {
   "cell_type": "markdown",
   "id": "3435c5ac",
   "metadata": {},
   "source": [
    "##### Form-8: print() with replacement operator {} "
   ]
  },
  {
   "cell_type": "code",
   "execution_count": null,
   "id": "b2300b6b",
   "metadata": {},
   "outputs": [],
   "source": [
    "name=\"Nishar\"\n",
    "salary=10000\n",
    "pops=\"sunny\"\n",
    "print(\"Hello {x} your salary is {y} and Your Friend {z} is waiting\".format(x=name,y=salary,z=pops))\n",
    "print(\"Hello {2} your salary is {1} and Your Friend {0} is waiting\".format(name,salary,pops)) # indexing\n"
   ]
  },
  {
   "cell_type": "markdown",
   "id": "08c48ecb",
   "metadata": {},
   "source": [
    "# Command line argument\n",
    "Command line arguments---->It is available sys Module (argv)       \n",
    "The Argument which are passing at the time of execution are called Command Line Arguments.      \n",
    "Within the Python Program this Command Line Arguments are available in argv. Which is present in SYS Module.     "
   ]
  },
  {
   "cell_type": "code",
   "execution_count": null,
   "id": "5d44a468",
   "metadata": {},
   "outputs": [],
   "source": [
    "from sys import argv\n",
    "print (type(argv))      #code.py"
   ]
  },
  {
   "cell_type": "code",
   "execution_count": null,
   "id": "13beb002",
   "metadata": {},
   "outputs": [],
   "source": [
    "import sys\n",
    "\n",
    "print ('Number of arguments:', len(sys.argv), 'arguments.')\n",
    "print ('Argument List:', str(sys.argv))                       #test.py"
   ]
  },
  {
   "cell_type": "markdown",
   "id": "c27f3c15",
   "metadata": {},
   "source": [
    "# Flow Control\n",
    "Flow control describes the order in which statements will be executed at runtime."
   ]
  },
  {
   "cell_type": "raw",
   "id": "8ba17f9e",
   "metadata": {},
   "source": [
    "#Conditional statements       #Transfer statements                #Iterative statements     \n",
    "# 1) if                            1) break                            1) for\n",
    "# 2) if-elif                       2) continue                         2) while\n",
    "# 3) if-elif-else                  3) pass       "
   ]
  },
  {
   "cell_type": "markdown",
   "id": "bb86a9f3",
   "metadata": {},
   "source": [
    "# Conditional Statements"
   ]
  },
  {
   "cell_type": "code",
   "execution_count": null,
   "id": "11582dd7",
   "metadata": {},
   "outputs": [],
   "source": [
    "#Conditional statements---> if condition: statement  or  if condition:\n",
    "                                                        # statement-1\n",
    "                                                        # statement-2\n",
    "                                                        # statement-3\n",
    "            # if the condition is true then the statements will be executed."
   ]
  },
  {
   "cell_type": "code",
   "execution_count": null,
   "id": "3d71ca8b",
   "metadata": {},
   "outputs": [],
   "source": [
    "name= input('True For Marrid, False for Unmarried')\n",
    "if name=='True':\n",
    "    print (\"you are Married\")\n",
    "else :\n",
    "    print(\"You are Unmarried\")"
   ]
  },
  {
   "cell_type": "code",
   "execution_count": null,
   "id": "642651f9",
   "metadata": {},
   "outputs": [],
   "source": [
    "# if-else--> syntax\n",
    "# if condition :\n",
    "# Action-1 \n",
    "# else :\n",
    "# Action-2\n",
    "# if condition is true then Action-1 will be executed otherwise Action-2 will be executed. "
   ]
  },
  {
   "cell_type": "code",
   "execution_count": null,
   "id": "9f4d3f56",
   "metadata": {},
   "outputs": [],
   "source": [
    "name=input(\"Enter Name:\")\n",
    "if name==\"Jackson\" :\n",
    "    print(\"Hello Jackson Good Morning\")\n",
    "else:\n",
    "    print(\"Hello Guest Good Moring\")\n",
    "print(\"How are you!!!\")"
   ]
  },
  {
   "cell_type": "code",
   "execution_count": null,
   "id": "9dcc03bf",
   "metadata": {},
   "outputs": [],
   "source": [
    "# if-elif-else--->\n",
    "# if condition1:\n",
    "#    Action-1\n",
    "# elif condition2:\n",
    "#    Action-2\n",
    "# elif condition3:\n",
    "#    Action-3\n",
    "# elif condition4:\n",
    "#    Action-4\n",
    "#   ...\n",
    "# else:\n",
    "# Default Action\n",
    "#    Based on the condition the corresponding action will be executed. "
   ]
  },
  {
   "cell_type": "code",
   "execution_count": null,
   "id": "aa987404",
   "metadata": {},
   "outputs": [],
   "source": [
    "brand=input(\"Enter Your Favourite Brand:\")\n",
    "if brand==\"RC\" :\n",
    "    print(\"It is childrensbrand\")\n",
    "elif brand==\"KF\":\n",
    "    print(\"It is not that much kick\")\n",
    "elif brand==\"FO\":\n",
    "    print(\"Buy one get One free\")\n",
    "elif brand==\"MC\":\n",
    "    print(\"BUy it\")\n",
    "else :\n",
    "    print(\"Sorry !!! Other Brands are not recommended\")"
   ]
  },
  {
   "cell_type": "code",
   "execution_count": null,
   "id": "a461aa11",
   "metadata": {},
   "outputs": [],
   "source": [
    "#Q. Write a program to find biggest of given 2 numbers\n",
    "\n",
    "n1=int(input(\"Enter First Number:\"))\n",
    "n2=int(input(\"Enter Second Number:\"))\n",
    "if n1>n2:\n",
    "    print(\"Biggest number is=\", n1)\n",
    "else:\n",
    "    print(\"Biggest number is=\", n2)"
   ]
  },
  {
   "cell_type": "code",
   "execution_count": null,
   "id": "08508797",
   "metadata": {},
   "outputs": [],
   "source": [
    "#Q. Write a program to find biggest of given 3 numbers \n",
    "#Q. Write a program to check whether the given number is even or odd?\n",
    "#Q. Write a program to find smallest of given 3 numbers?\n",
    "#Q. Write a program to check whether the given number is in between 1 and 100?"
   ]
  },
  {
   "cell_type": "markdown",
   "id": "04a083b7",
   "metadata": {},
   "source": [
    "# Iterative statements\n",
    "If we want to execute a group of statements multiple times then we should go for Iterative statements.\n",
    "Python supports 2 types of iterative statements.\n",
    "1. for loop\n",
    "2. while loop"
   ]
  },
  {
   "cell_type": "markdown",
   "id": "5def66eb",
   "metadata": {},
   "source": [
    "##### for loop\n",
    "If we want to execute some action for every element present in some sequence then we should go for for loop"
   ]
  },
  {
   "cell_type": "code",
   "execution_count": null,
   "id": "2780fcc8",
   "metadata": {},
   "outputs": [],
   "source": [
    "even=[0,2,4,6,8,10,12,14,16,18,20]"
   ]
  },
  {
   "cell_type": "code",
   "execution_count": null,
   "id": "1d562146",
   "metadata": {},
   "outputs": [],
   "source": [
    "for n in even:\n",
    "    print(n, end=\" \")"
   ]
  },
  {
   "cell_type": "code",
   "execution_count": null,
   "id": "8f9a58a9",
   "metadata": {},
   "outputs": [],
   "source": [
    "s= \"Nishar,banu\"\n",
    "for x in s:\n",
    "    print(x, end=\" \")"
   ]
  },
  {
   "cell_type": "code",
   "execution_count": null,
   "id": "eed39562",
   "metadata": {},
   "outputs": [],
   "source": [
    "for i in range(1,11):\n",
    "    print(i)"
   ]
  },
  {
   "cell_type": "code",
   "execution_count": null,
   "id": "e803498d",
   "metadata": {},
   "outputs": [],
   "source": [
    "#To print characters present in string index wise:\n",
    "s= input(\"Enter some string:\")\n",
    "i=5\n",
    "for x in s:\n",
    "    print (\"the character present at\", i , \"index is:\" , x)\n",
    "    i=i-1"
   ]
  },
  {
   "cell_type": "code",
   "execution_count": null,
   "id": "61ef42a4",
   "metadata": {},
   "outputs": [],
   "source": [
    "#To print Hello 10 times\n",
    "\n",
    "for x in range(10) :\n",
    "    print(\"hello\")"
   ]
  },
  {
   "cell_type": "code",
   "execution_count": null,
   "id": "5aee0d71",
   "metadata": {},
   "outputs": [],
   "source": [
    "#Q. To display numbers from 0 to 10\n",
    "for i in range(0,11):\n",
    "    print(i)"
   ]
  },
  {
   "cell_type": "markdown",
   "id": "a74b2ae0",
   "metadata": {},
   "source": [
    "##### while loop\n",
    "If we want to execute a group of statements iteratively until some condition is false,then we should go for while loop.      \n",
    "    #Syntax----> while condition: body/statements"
   ]
  },
  {
   "cell_type": "code",
   "execution_count": null,
   "id": "9edf71ce",
   "metadata": {},
   "outputs": [],
   "source": [
    "#To print numbers from 1 to 10 by using while loop\n",
    "x=1\n",
    "while x <=10:  #true so loop to next line.\n",
    "    print(x)\n",
    "    x=x+1"
   ]
  },
  {
   "cell_type": "code",
   "execution_count": null,
   "id": "2985a9de",
   "metadata": {},
   "outputs": [],
   "source": [
    "sum=0\n",
    "i=0\n",
    "while i<10:\n",
    "    sum=sum+i\n",
    "    print (sum)\n",
    "    i=i+1"
   ]
  },
  {
   "cell_type": "code",
   "execution_count": null,
   "id": "a716e4fe",
   "metadata": {},
   "outputs": [],
   "source": [
    "#infinite loops\n",
    "i=0\n",
    "while True:\n",
    "    i=i+1\n",
    "    print('hello', i)"
   ]
  },
  {
   "cell_type": "markdown",
   "id": "a00ae106",
   "metadata": {},
   "source": [
    "##### Nested Loops:\n",
    "Sometimes we can take a loop inside another loop,which are also known as nested loops. \n"
   ]
  },
  {
   "cell_type": "code",
   "execution_count": 2,
   "id": "b6ddc1db",
   "metadata": {},
   "outputs": [
    {
     "name": "stdout",
     "output_type": "stream",
     "text": [
      "1 * 1 = 1\n",
      "1 * 2 = 2\n",
      "1 * 3 = 3\n",
      "1 * 4 = 4\n",
      "1 * 5 = 5\n",
      "1 * 6 = 6\n",
      "1 * 7 = 7\n",
      "1 * 8 = 8\n",
      "1 * 9 = 9\n",
      "1 * 10 = 10\n",
      "2 * 1 = 2\n",
      "2 * 2 = 4\n",
      "2 * 3 = 6\n",
      "2 * 4 = 8\n",
      "2 * 5 = 10\n",
      "2 * 6 = 12\n",
      "2 * 7 = 14\n",
      "2 * 8 = 16\n",
      "2 * 9 = 18\n",
      "2 * 10 = 20\n",
      "3 * 1 = 3\n",
      "3 * 2 = 6\n",
      "3 * 3 = 9\n",
      "3 * 4 = 12\n",
      "3 * 5 = 15\n",
      "3 * 6 = 18\n",
      "3 * 7 = 21\n",
      "3 * 8 = 24\n",
      "3 * 9 = 27\n",
      "3 * 10 = 30\n"
     ]
    }
   ],
   "source": [
    "for i in range(1,):\n",
    "    for j in range(1,11):\n",
    "        print(i ,\"*\", j ,\"=\", i*j)"
   ]
  },
  {
   "cell_type": "markdown",
   "id": "dd137f2c",
   "metadata": {},
   "source": [
    "# Transfer statements/jump statements\n",
    "They are used to come out from the loop without stopping."
   ]
  },
  {
   "cell_type": "code",
   "execution_count": 3,
   "id": "0f22a6b4",
   "metadata": {},
   "outputs": [
    {
     "name": "stdout",
     "output_type": "stream",
     "text": [
      "1\n",
      "2\n",
      "3\n",
      "4\n"
     ]
    }
   ],
   "source": [
    "for i in range(1,11):\n",
    "    if i==5:               \n",
    "        break   # is used to exit from the statement\n",
    "    print(i)"
   ]
  },
  {
   "cell_type": "code",
   "execution_count": 4,
   "id": "f1653c98",
   "metadata": {},
   "outputs": [
    {
     "name": "stdout",
     "output_type": "stream",
     "text": [
      "1\n",
      "2\n",
      "3\n",
      "4\n",
      "6\n",
      "7\n",
      "8\n",
      "9\n",
      "10\n"
     ]
    }
   ],
   "source": [
    "for i in range(1,11):\n",
    "    if i==5:\n",
    "        continue    # to skip some iteration inside the loop\n",
    "    print(i)"
   ]
  },
  {
   "cell_type": "code",
   "execution_count": 11,
   "id": "7bd18c78",
   "metadata": {},
   "outputs": [],
   "source": [
    "for i in range(1,11):\n",
    "          pass      # pass is a keyword in Python.\n",
    "                         #pass----> It is an empty statement, - It is null statement, - It won't do anything\n",
    "    "
   ]
  },
  {
   "cell_type": "code",
   "execution_count": null,
   "id": "a54f37e1",
   "metadata": {},
   "outputs": [],
   "source": [
    "#Q. What is the difference between for loop and while loop in Python?\n",
    "#Q. How to exit from the loop?\n",
    "#Q. How to skip some iterations inside loop?"
   ]
  }
 ],
 "metadata": {
  "kernelspec": {
   "display_name": "Python 3 (ipykernel)",
   "language": "python",
   "name": "python3"
  },
  "language_info": {
   "codemirror_mode": {
    "name": "ipython",
    "version": 3
   },
   "file_extension": ".py",
   "mimetype": "text/x-python",
   "name": "python",
   "nbconvert_exporter": "python",
   "pygments_lexer": "ipython3",
   "version": "3.10.9"
  }
 },
 "nbformat": 4,
 "nbformat_minor": 5
}
