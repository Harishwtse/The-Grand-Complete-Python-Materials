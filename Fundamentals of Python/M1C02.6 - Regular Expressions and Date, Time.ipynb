{
 "cells": [
  {
   "cell_type": "markdown",
   "metadata": {},
   "source": [
    "# 2.6 Regular Expressions and Date, Time\n",
    "\n",
    "A Regular Expressions (RegEx) is a special sequence of characters that uses a search pattern to find a string or set of strings. It can detect the presence or absence of a text by matching it with a particular pattern, and also can split a pattern into one or more sub-patterns.                   \n",
    " \n",
    "If we want to represent a group of Strings according to a particular format/pattern then we should go for Regular Expressions.  \n",
    "  i.e, Regular Expressions is a declarative mechanism to represent a group of Strings accroding to particular format/pattern.    \n",
    "\n",
    "The main important application areas of Regular Expressions are:            \n",
    "1. To develop validation frameworks/validation logic.        \n",
    "2. To develop Pattern matching applications (ctrl-f in windows).                   \n",
    "3. To develop Translators like compilers, interpreters etc.                   \n",
    "4. To develop digital circuits.                                      \n",
    "\n",
    "We can develop Regular Expression Based applications by using python module: re This module contains several in built functions to use Regular Expressions very easily in our aplications.                    \n",
    "\n",
    "Regular expressions are inbuilt functions. Important functions of re module                  \n",
    "1> Search                     \n",
    "2> Match               \n",
    "3> Finditer              \n",
    "4> Findall                \n",
    "5> Sub                    \n",
    "6> Subn                     \n",
    "7> Split                \n",
    "8> Compile                 "
   ]
  },
  {
   "cell_type": "code",
   "execution_count": 1,
   "metadata": {},
   "outputs": [],
   "source": [
    "import re"
   ]
  },
  {
   "cell_type": "markdown",
   "metadata": {},
   "source": [
    "# Match func \n",
    "## re.match(pattern,string)\n",
    "We can use match function to check the given pattern at beginning of target string.              \n",
    "If the match is available then we will get Match object, otherwise we will get none.            "
   ]
  },
  {
   "cell_type": "code",
   "execution_count": 4,
   "metadata": {},
   "outputs": [
    {
     "name": "stdout",
     "output_type": "stream",
     "text": [
      "<re.Match object; span=(0, 1), match='i'>\n"
     ]
    }
   ],
   "source": [
    "string=\"i want to become artificial intelligence engineer\"\n",
    "matching=re.match(\"i\",string)\n",
    "print(matching)  #===> output will be my(start index, end index)"
   ]
  },
  {
   "cell_type": "code",
   "execution_count": 5,
   "metadata": {},
   "outputs": [
    {
     "name": "stdout",
     "output_type": "stream",
     "text": [
      "None\n"
     ]
    }
   ],
   "source": [
    "string=\"i want to become artificial intelligence engineer\"\n",
    "matching=re.match(\"w\",string)\n",
    "print(matching)"
   ]
  },
  {
   "cell_type": "markdown",
   "metadata": {},
   "source": [
    "# Search func\n",
    "## re.search(pattern,string)\n",
    "We can use search() function to search the given pattern in the target string.                              \n",
    "If the match is available then it returns the Match object which represents first occurrence of the match.                \n",
    "If the match is not available then it returns None                "
   ]
  },
  {
   "cell_type": "code",
   "execution_count": 8,
   "metadata": {
    "scrolled": true
   },
   "outputs": [
    {
     "name": "stdout",
     "output_type": "stream",
     "text": [
      "<re.Match object; span=(3, 4), match='a'>\n"
     ]
    }
   ],
   "source": [
    "string=\"i want to become artificial intelligence engineer\"\n",
    "searching=re.search(\"a\",string)\n",
    "print(searching)"
   ]
  },
  {
   "cell_type": "code",
   "execution_count": 7,
   "metadata": {},
   "outputs": [
    {
     "name": "stdout",
     "output_type": "stream",
     "text": [
      "None\n"
     ]
    }
   ],
   "source": [
    "string=\"i want to become artificial intelligence engineer\"\n",
    "searching=re.search(\"value\",string)\n",
    "print(searching)"
   ]
  },
  {
   "cell_type": "markdown",
   "metadata": {},
   "source": [
    "# Finditer func\n",
    "## re.finditer(pattern,string)\n",
    "Returns the iterator yielding a match object for each match.               \n",
    "On each match object we can call start(), end() and group() functions. "
   ]
  },
  {
   "cell_type": "code",
   "execution_count": 10,
   "metadata": {},
   "outputs": [
    {
     "name": "stdout",
     "output_type": "stream",
     "text": [
      "<re.Match object; span=(8, 9), match='a'>\n",
      "8 9 a\n",
      "<re.Match object; span=(18, 19), match='e'>\n",
      "18 19 e\n",
      "<re.Match object; span=(22, 23), match='a'>\n",
      "22 23 a\n",
      "<re.Match object; span=(29, 30), match='e'>\n",
      "29 30 e\n",
      "<re.Match object; span=(37, 38), match='e'>\n",
      "37 38 e\n"
     ]
    }
   ],
   "source": [
    "string=\"hhis is a Python Regular Expression session\"\n",
    "finditer=re.finditer(\"[a-e]\",string)  \n",
    "for i in finditer:\n",
    "    print(i)\n",
    "    print(i.start(),i.end(),i.group())"
   ]
  },
  {
   "cell_type": "markdown",
   "metadata": {},
   "source": [
    "# Findall func\n",
    "## re.findall(pattern,string)\n",
    "To find all occurrences of the match. This function returns a list object which contains all occurrences.               \n",
    "Return all non-overlapping matches of pattern in string, as a list of strings.              \n",
    "The string is scanned left-to-right, and matches are returned in the order found.            "
   ]
  },
  {
   "cell_type": "code",
   "execution_count": 11,
   "metadata": {
    "scrolled": true
   },
   "outputs": [
    {
     "data": {
      "text/plain": [
       "['i', 'i', 'i', 'i', 'i', 'i']"
      ]
     },
     "execution_count": 11,
     "metadata": {},
     "output_type": "execute_result"
    }
   ],
   "source": [
    "string=\"artificial intelligence engineer\"\n",
    "findall=re.findall(\"i\",string)\n",
    "findall"
   ]
  },
  {
   "cell_type": "code",
   "execution_count": 12,
   "metadata": {},
   "outputs": [
    {
     "data": {
      "text/plain": [
       "['2', '3', '4', '1234567']"
      ]
     },
     "execution_count": 12,
     "metadata": {},
     "output_type": "execute_result"
    }
   ],
   "source": [
    "x=\"my phone 2 3 4 number is 1234567\"\n",
    "y=re.findall(\"\\d+\",x) \n",
    "y#===>  \\d+ will match a group on [0-9], group"
   ]
  },
  {
   "cell_type": "code",
   "execution_count": 13,
   "metadata": {},
   "outputs": [
    {
     "name": "stdout",
     "output_type": "stream",
     "text": [
      "['2', '3', '4', '1', '2', '3', '4', '5', '6', '7']\n"
     ]
    }
   ],
   "source": [
    "x=\"my phone 2 3 4 number is 1234567\"\n",
    "y=re.findall(\"\\d\",x)   #===> \\d is equivalent to [0-9].\n",
    "print(y)"
   ]
  },
  {
   "cell_type": "markdown",
   "metadata": {},
   "source": [
    "# Sub func   \n",
    "sub means substitution or replacement\n",
    "## re.sub(regex,replacement,targetstring)\n",
    "In the target string every matched pattern will be replaced with provided replacement"
   ]
  },
  {
   "cell_type": "code",
   "execution_count": 14,
   "metadata": {},
   "outputs": [
    {
     "name": "stdout",
     "output_type": "stream",
     "text": [
      "artIfIcIal IntellIgence engIneer\n"
     ]
    }
   ],
   "source": [
    "string=\"artificial intelligence engineer\"\n",
    "substitute=re.sub(\"i\",\"I\",string)\n",
    "print(substitute)"
   ]
  },
  {
   "cell_type": "markdown",
   "metadata": {},
   "source": [
    "It is exactly same as sub except it can also returns the number of replacements.                                    \n",
    "This function returns a tuple where first element is result string and second element is number of  replacements.          \n",
    "re.subn (resultstring, number of replacement)"
   ]
  },
  {
   "cell_type": "code",
   "execution_count": 17,
   "metadata": {},
   "outputs": [
    {
     "name": "stdout",
     "output_type": "stream",
     "text": [
      "('I artIfIcIal IntellIgence engIneer I, I', 9)\n"
     ]
    }
   ],
   "source": [
    "#subn\n",
    "string=\"i artificial intelligence engineer i, i\"\n",
    "substitute=re.subn(\"i\",\"I\",string,)\n",
    "print(substitute)"
   ]
  },
  {
   "cell_type": "markdown",
   "metadata": {},
   "source": [
    "# Split func\n",
    "If we want to split the given target string according to a particular pattern then we should go for split() function.      \n",
    "This function returns list of all tokens."
   ]
  },
  {
   "cell_type": "code",
   "execution_count": 20,
   "metadata": {},
   "outputs": [
    {
     "name": "stdout",
     "output_type": "stream",
     "text": [
      "['artificial', 'intelligence', 'engineer']\n"
     ]
    }
   ],
   "source": [
    "#split\n",
    "string=\"artificial intelligence engineer\"\n",
    "substitute=re.split(\" \",string)\n",
    "print(substitute) "
   ]
  },
  {
   "cell_type": "markdown",
   "metadata": {},
   "source": [
    "# Compile func\n",
    "re module contains compile() function to compile a pattern into RegexObject         \n",
    "Regular expressions are compiled into pattern objects, which have methods for various operations such as searching for pattern matches or performing string substitutions. "
   ]
  },
  {
   "cell_type": "code",
   "execution_count": 27,
   "metadata": {},
   "outputs": [
    {
     "name": "stdout",
     "output_type": "stream",
     "text": [
      "['e', 'a', 'd', 'b', 'e', 'a']\n"
     ]
    }
   ],
   "source": [
    "# compile() creates regular expression\n",
    "# character class [a-e], which is equivalent to [abcde].\n",
    "# class [abcde] will match with string with 'a', 'b', 'c', 'd', 'e'.\n",
    "p = re.compile('[a-e][a-e][a-e]a-e][a-e][a-e][a-e][a-e][a-e]')'\n",
    "\n",
    "# findall() searches for the Regular Expression and return a list upon finding\n",
    "print(p.findall(\"Aye, said Mr. Gibenson Stark f\"))"
   ]
  },
  {
   "cell_type": "code",
   "execution_count": 28,
   "metadata": {},
   "outputs": [
    {
     "name": "stdout",
     "output_type": "stream",
     "text": [
      "['1', '1', '4', '1', '8', '8', '6']\n",
      "['11', '4', '1886']\n"
     ]
    }
   ],
   "source": [
    "# \\d is equivalent to [0-9].\n",
    "p = re.compile('\\d')\n",
    "print(p.findall(\"I went to him at 11 A.M. on 4th July 1886\"))\n",
    "\n",
    "# \\d+ will match a group on [0-9], group of one or greater size\n",
    "p = re.compile('\\d+')\n",
    "print(p.findall(\"I went to him at 11 A.M. on 4th July 1886\"))\n"
   ]
  },
  {
   "cell_type": "code",
   "execution_count": 29,
   "metadata": {
    "scrolled": true
   },
   "outputs": [
    {
     "name": "stdout",
     "output_type": "stream",
     "text": [
      "<re.Match object; span=(3, 4), match='i'>\n"
     ]
    }
   ],
   "source": [
    "string=\"artificial intelligence engineer\"\n",
    "comp=re.compile(\"i\")\n",
    "val=comp.search(string)\n",
    "print(val)"
   ]
  },
  {
   "cell_type": "code",
   "execution_count": 30,
   "metadata": {},
   "outputs": [
    {
     "name": "stdout",
     "output_type": "stream",
     "text": [
      "['1234']\n",
      "['3456']\n"
     ]
    }
   ],
   "source": [
    "student=[\"Jil roll number is 1234\",\"John roll number is 3456\"]\n",
    "for i in student:\n",
    "    comp=re.compile(\"\\d+\") #compile converts regular expression object to the regular expression pattern\n",
    "    roll_number=comp.findall(i)\n",
    "    print(roll_number)"
   ]
  },
  {
   "cell_type": "markdown",
   "metadata": {},
   "source": [
    "# Regular expression filtering."
   ]
  },
  {
   "cell_type": "code",
   "execution_count": 31,
   "metadata": {},
   "outputs": [
    {
     "name": "stdout",
     "output_type": "stream",
     "text": [
      "Valid_mail\n"
     ]
    }
   ],
   "source": [
    "pattern=\"^[a-zA-Z0-9]+[\\.!]?[a-zA-Z0-9]+[@\\w]+[\\.\\w]{2,3}\"\n",
    "def check_mail(mail_id):\n",
    "    if re.search(pattern,mail_id):\n",
    "        print(\"Valid_mail\")\n",
    "    else:\n",
    "        print(\"Not valid_mail\")       \n",
    "check_mail(\"harish.tharati@gmail.com\")"
   ]
  },
  {
   "cell_type": "code",
   "execution_count": 33,
   "metadata": {},
   "outputs": [
    {
     "name": "stdout",
     "output_type": "stream",
     "text": [
      "Not valid_mail\n"
     ]
    }
   ],
   "source": [
    "pattern=\"^[a-zA-Z0-9]+[\\.!]?[a-zA-Z0-9]+[@\\w]+[\\.\\w]{2,3}\"\n",
    "def check_mail(mail_id):\n",
    "    if re.search(pattern,mail_id):\n",
    "        print(\"Valid_mail\")\n",
    "    else:\n",
    "        print(\"Not valid_mail\")       \n",
    "check_mail(\"!Nisha.salma6@gmail.com\")"
   ]
  },
  {
   "cell_type": "markdown",
   "metadata": {},
   "source": [
    "# Date and Time \n",
    "### Date==> year/month/day\n",
    "### time==> hour/minute/second/microsecond"
   ]
  },
  {
   "cell_type": "code",
   "execution_count": 35,
   "metadata": {},
   "outputs": [
    {
     "name": "stdout",
     "output_type": "stream",
     "text": [
      "                                  2024\n",
      "\n",
      "      January                   February                   March\n",
      "Mo Tu We Th Fr Sa Su      Mo Tu We Th Fr Sa Su      Mo Tu We Th Fr Sa Su\n",
      " 1  2  3  4  5  6  7                1  2  3  4                   1  2  3\n",
      " 8  9 10 11 12 13 14       5  6  7  8  9 10 11       4  5  6  7  8  9 10\n",
      "15 16 17 18 19 20 21      12 13 14 15 16 17 18      11 12 13 14 15 16 17\n",
      "22 23 24 25 26 27 28      19 20 21 22 23 24 25      18 19 20 21 22 23 24\n",
      "29 30 31                  26 27 28 29               25 26 27 28 29 30 31\n",
      "\n",
      "       April                      May                       June\n",
      "Mo Tu We Th Fr Sa Su      Mo Tu We Th Fr Sa Su      Mo Tu We Th Fr Sa Su\n",
      " 1  2  3  4  5  6  7             1  2  3  4  5                      1  2\n",
      " 8  9 10 11 12 13 14       6  7  8  9 10 11 12       3  4  5  6  7  8  9\n",
      "15 16 17 18 19 20 21      13 14 15 16 17 18 19      10 11 12 13 14 15 16\n",
      "22 23 24 25 26 27 28      20 21 22 23 24 25 26      17 18 19 20 21 22 23\n",
      "29 30                     27 28 29 30 31            24 25 26 27 28 29 30\n",
      "\n",
      "        July                     August                  September\n",
      "Mo Tu We Th Fr Sa Su      Mo Tu We Th Fr Sa Su      Mo Tu We Th Fr Sa Su\n",
      " 1  2  3  4  5  6  7                1  2  3  4                         1\n",
      " 8  9 10 11 12 13 14       5  6  7  8  9 10 11       2  3  4  5  6  7  8\n",
      "15 16 17 18 19 20 21      12 13 14 15 16 17 18       9 10 11 12 13 14 15\n",
      "22 23 24 25 26 27 28      19 20 21 22 23 24 25      16 17 18 19 20 21 22\n",
      "29 30 31                  26 27 28 29 30 31         23 24 25 26 27 28 29\n",
      "                                                    30\n",
      "\n",
      "      October                   November                  December\n",
      "Mo Tu We Th Fr Sa Su      Mo Tu We Th Fr Sa Su      Mo Tu We Th Fr Sa Su\n",
      "    1  2  3  4  5  6                   1  2  3                         1\n",
      " 7  8  9 10 11 12 13       4  5  6  7  8  9 10       2  3  4  5  6  7  8\n",
      "14 15 16 17 18 19 20      11 12 13 14 15 16 17       9 10 11 12 13 14 15\n",
      "21 22 23 24 25 26 27      18 19 20 21 22 23 24      16 17 18 19 20 21 22\n",
      "28 29 30 31               25 26 27 28 29 30         23 24 25 26 27 28 29\n",
      "                                                    30 31\n",
      "\n"
     ]
    }
   ],
   "source": [
    "import calendar\n",
    "\n",
    "print(calendar.calendar(2024))"
   ]
  },
  {
   "cell_type": "code",
   "execution_count": 38,
   "metadata": {},
   "outputs": [
    {
     "name": "stdout",
     "output_type": "stream",
     "text": [
      "   February 2024\n",
      "Mo Tu We Th Fr Sa Su\n",
      "          1  2  3  4\n",
      " 5  6  7  8  9 10 11\n",
      "12 13 14 15 16 17 18\n",
      "19 20 21 22 23 24 25\n",
      "26 27 28 29\n",
      "\n"
     ]
    }
   ],
   "source": [
    "print(calendar.month(2024, 2))"
   ]
  },
  {
   "cell_type": "code",
   "execution_count": 39,
   "metadata": {},
   "outputs": [
    {
     "name": "stdout",
     "output_type": "stream",
     "text": [
      "2\n"
     ]
    }
   ],
   "source": [
    "print(calendar.leapdays(2022,2030))"
   ]
  },
  {
   "cell_type": "code",
   "execution_count": 40,
   "metadata": {},
   "outputs": [
    {
     "name": "stdout",
     "output_type": "stream",
     "text": [
      "2024-03-16\n"
     ]
    }
   ],
   "source": [
    "from datetime import date\n",
    "print(date.today())"
   ]
  },
  {
   "cell_type": "code",
   "execution_count": 41,
   "metadata": {},
   "outputs": [
    {
     "name": "stdout",
     "output_type": "stream",
     "text": [
      "todays date= 2024-03-16\n",
      "current year= 2024\n",
      "current month= 3\n",
      "current day= 16\n"
     ]
    }
   ],
   "source": [
    "today=date.today()\n",
    "print('todays date=',today)\n",
    "print('current year=',today.year)\n",
    "print('current month=',today.month)\n",
    "print('current day=',today.day)"
   ]
  },
  {
   "cell_type": "code",
   "execution_count": 42,
   "metadata": {},
   "outputs": [
    {
     "name": "stdout",
     "output_type": "stream",
     "text": [
      "Time format: 11:01:20\n"
     ]
    }
   ],
   "source": [
    "from datetime import time\n",
    "a=time(11,1,20)\n",
    "# print(\"Hour=\",a.hour)\n",
    "# print(\"Minute=\",a.minute)\n",
    "# print(\"second=\",a.second)\n",
    "\n",
    "print(\"Time format:\",a)"
   ]
  },
  {
   "cell_type": "code",
   "execution_count": 46,
   "metadata": {
    "scrolled": true
   },
   "outputs": [
    {
     "name": "stdout",
     "output_type": "stream",
     "text": [
      "2020-05-10 02:15:02\n",
      "Year: 2020\n",
      "Month: 5\n",
      "Day: 10\n"
     ]
    }
   ],
   "source": [
    "from datetime import datetime\n",
    "a=datetime(2020,5,10,2,15,2)\n",
    "print(a)\n",
    "print(\"Year:\",a.year)\n",
    "print(\"Month:\",a.month)\n",
    "print(\"Day:\",a.day)"
   ]
  },
  {
   "cell_type": "code",
   "execution_count": 47,
   "metadata": {},
   "outputs": [
    {
     "name": "stdout",
     "output_type": "stream",
     "text": [
      "19 days, 1:00:33\n",
      "4 days, 11:04:54\n",
      "t3= 14 days, 13:55:39\n"
     ]
    }
   ],
   "source": [
    "from datetime import timedelta\n",
    "t1=timedelta(weeks=2, days=5, hours=1,seconds=33)\n",
    "t2=timedelta(days=4, hours=11, minutes=4, seconds=54)\n",
    "print(t1)\n",
    "print(t2)\n",
    "t3=t1-t2\n",
    "print('t3=', t3)"
   ]
  },
  {
   "cell_type": "code",
   "execution_count": 50,
   "metadata": {},
   "outputs": [
    {
     "name": "stdout",
     "output_type": "stream",
     "text": [
      "Present Age\n",
      "Years: 33 \n",
      "Months: 7 \n",
      "Days: 24\n"
     ]
    }
   ],
   "source": [
    "def findAge(current_date, current_month, current_year,  \n",
    "            birth_date, birth_month, birth_year): \n",
    "\n",
    "    month =[31, 28, 31, 30, 31, 30, 31, 31, 30, 31, 30, 31] \n",
    "    \n",
    "\n",
    "    calculated_date = current_date - birth_date\n",
    "    calculated_month = current_month - birth_month \n",
    "    calculated_year = current_year - birth_year\n",
    "      \n",
    "    print(\"Present Age\")\n",
    "    print(\"Years:\", calculated_year, \"\\nMonths:\",   \n",
    "         calculated_month, \"\\nDays:\", calculated_date) \n",
    "      \n",
    "from datetime import date\n",
    "today=date.today()\n",
    "today.year\n",
    "\n",
    "#Current_Date\n",
    "current_date = today.day\n",
    "current_month = today.month\n",
    "current_year = today.year\n",
    "          \n",
    "#Birth_Date\n",
    "birth_date = 23\n",
    "birth_month = 7\n",
    "birth_year = 1990\n",
    "  \n",
    "findAge(current_date, current_month, current_year,  \n",
    "        birth_date, birth_month, birth_year) "
   ]
  }
 ],
 "metadata": {
  "kernelspec": {
   "display_name": "Python 3 (ipykernel)",
   "language": "python",
   "name": "python3"
  },
  "language_info": {
   "codemirror_mode": {
    "name": "ipython",
    "version": 3
   },
   "file_extension": ".py",
   "mimetype": "text/x-python",
   "name": "python",
   "nbconvert_exporter": "python",
   "pygments_lexer": "ipython3",
   "version": "3.10.9"
  }
 },
 "nbformat": 4,
 "nbformat_minor": 4
}
