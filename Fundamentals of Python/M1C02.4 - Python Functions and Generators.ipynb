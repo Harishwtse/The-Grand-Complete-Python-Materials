{
 "cells": [
  {
   "cell_type": "markdown",
   "metadata": {},
   "source": [
    "# 2.4 Functions and Generators\n",
    "\n",
    "# FUNCTIONS\n",
    "Function is a block of related statements which is designed to perform a logical and evaluative task.     \n",
    "We can create a  Python function using the def keyword. \n",
    "\n",
    "We need to keep the following points in mind while calling functions:                \n",
    "1) In the case of passing the keyword arguments, the order of arguments is important.        \n",
    "2) There should be only one value for one parameter.                      \n",
    "3) The passed keyword name should match with the actual keyword name.                              \n",
    "4) In the case of calling a function containing non-keyword arguments, the order is important..         "
   ]
  },
  {
   "cell_type": "code",
   "execution_count": 1,
   "metadata": {},
   "outputs": [],
   "source": [
    "# A simple Python function\n",
    "def fun():\n",
    "    print(\"Welcome to Sankhyana\")"
   ]
  },
  {
   "cell_type": "code",
   "execution_count": 2,
   "metadata": {},
   "outputs": [
    {
     "name": "stdout",
     "output_type": "stream",
     "text": [
      "Welcome to Sankhyana\n"
     ]
    }
   ],
   "source": [
    "# A simple function -------> calling function\n",
    "def fun():\n",
    "    print(\"Welcome to Sankhyana\")\n",
    "# Driver code to call a function\n",
    "fun()"
   ]
  },
  {
   "cell_type": "code",
   "execution_count": 6,
   "metadata": {},
   "outputs": [
    {
     "name": "stdout",
     "output_type": "stream",
     "text": [
      "odd\n"
     ]
    }
   ],
   "source": [
    "# Python function with arguments\n",
    "# A simple Python function to check whether x is even or odd\n",
    "def evenOdd(x):\n",
    "    if (x % 2 == 0):\n",
    "        print(\"even\")\n",
    "    else:\n",
    "        print(\"odd\")\n",
    "        \n",
    "        \n",
    "        \n",
    "        \n",
    "        \n",
    "# Driver code to call the function\n",
    "evenOdd(3)\n"
   ]
  },
  {
   "cell_type": "code",
   "execution_count": 7,
   "metadata": {},
   "outputs": [
    {
     "name": "stdout",
     "output_type": "stream",
     "text": [
      "9\n"
     ]
    }
   ],
   "source": [
    "# Return statement\n",
    "# Function can take input values as parameters and executes business logic, \n",
    "# and returns output to the caller with return statement.\n",
    "\n",
    "def square_value(num):\n",
    "    return num**2                          #\"\"\"This function returns the square\n",
    "                                                    #  value of the entered number\"\"\n",
    "    \n",
    "    \n",
    "    \n",
    "    \n",
    "print(square_value(3))             \n",
    "\n"
   ]
  },
  {
   "cell_type": "code",
   "execution_count": 13,
   "metadata": {},
   "outputs": [
    {
     "name": "stdout",
     "output_type": "stream",
     "text": [
      "50\n"
     ]
    }
   ],
   "source": [
    "# Q. Write a function to accept 2 numbers as input and return sum.\n",
    "def add(x,y):\n",
    "    return x+y\n",
    "\n",
    "\n",
    "result=add(10,20)\n",
    "print(result)\n",
    "\n",
    "print(add(100,200))"
   ]
  },
  {
   "cell_type": "code",
   "execution_count": 14,
   "metadata": {},
   "outputs": [
    {
     "name": "stdout",
     "output_type": "stream",
     "text": [
      "the sum is: 150\n",
      "the sub is: 50\n"
     ]
    }
   ],
   "source": [
    "# Q. Returning multiple values from a function:\n",
    "def sum_sub(a,b):\n",
    "    sum=a+b\n",
    "    sub=a-b\n",
    "    return sum,sub\n",
    "\n",
    "x,y=sum_sub(100,50)  # x=sum / y=sub \n",
    "\n",
    "print('the sum is:',x)\n",
    "print('the sub is:',y)"
   ]
  },
  {
   "cell_type": "code",
   "execution_count": 16,
   "metadata": {},
   "outputs": [
    {
     "name": "stdout",
     "output_type": "stream",
     "text": [
      "3\n",
      "10\n",
      "4\n",
      "150\n"
     ]
    }
   ],
   "source": [
    "y=10\n",
    "def outer():\n",
    "    z=4\n",
    "    def inner():\n",
    "        x=3\n",
    "        print(x)\n",
    "        print(y)\n",
    "        print(z)\n",
    "    inner()\n",
    "outer()"
   ]
  },
  {
   "cell_type": "code",
   "execution_count": null,
   "metadata": {},
   "outputs": [],
   "source": []
  },
  {
   "cell_type": "markdown",
   "metadata": {},
   "source": [
    "# Types of Function\n",
    "\n",
    "# 1. Simple Argument Function"
   ]
  },
  {
   "cell_type": "code",
   "execution_count": 17,
   "metadata": {},
   "outputs": [
    {
     "name": "stdout",
     "output_type": "stream",
     "text": [
      "Enter a number:1\n",
      "Enter one more number:2\n",
      "Enter one more number:3\n",
      "6\n"
     ]
    }
   ],
   "source": [
    "def main():\n",
    "    x=int(input(\"Enter a number:\"))\n",
    "    y=int(input(\"Enter one more number:\"))\n",
    "    z=int(input(\"Enter one more number:\"))\n",
    "    print(x+y+z)    \n",
    "main()"
   ]
  },
  {
   "cell_type": "markdown",
   "metadata": {
    "scrolled": true
   },
   "source": [
    " def main():\n",
    "    x=int(input(\"Enter a number:\"))\n",
    "    y=int(input(\"Enter one more number:\"))\n",
    "    z=int(input(\"Enter one more number:\"))\n",
    "    return x+y+z    # used to come out from the function \n",
    "main()"
   ]
  },
  {
   "cell_type": "code",
   "execution_count": 19,
   "metadata": {
    "scrolled": true
   },
   "outputs": [
    {
     "name": "stdout",
     "output_type": "stream",
     "text": [
      "Enter a number:1\n",
      "Enter one more number:2\n",
      "Enter one more number:3\n",
      "6\n"
     ]
    }
   ],
   "source": [
    "def main():\n",
    "    x=int(input(\"Enter a number:\"))\n",
    "    y=int(input(\"Enter one more number:\"))\n",
    "    z=int(input(\"Enter one more number:\"))\n",
    "    return x+y+z\n",
    "\n",
    "print(main())"
   ]
  },
  {
   "cell_type": "markdown",
   "metadata": {},
   "source": [
    "# 2. Required Argument Function"
   ]
  },
  {
   "cell_type": "code",
   "execution_count": 20,
   "metadata": {
    "scrolled": true
   },
   "outputs": [
    {
     "data": {
      "text/plain": [
       "9"
      ]
     },
     "execution_count": 20,
     "metadata": {},
     "output_type": "execute_result"
    }
   ],
   "source": [
    "def required_argument_functions(x,y,z):\n",
    "    return x+y+z\n",
    "\n",
    "\n",
    "required_argument_functions(2,3,4)\n"
   ]
  },
  {
   "cell_type": "markdown",
   "metadata": {},
   "source": [
    "# 3. Default Argument Function\n",
    "Default values indicate that the function argument will take that, value if no argument value is passed during the function call."
   ]
  },
  {
   "cell_type": "code",
   "execution_count": 21,
   "metadata": {},
   "outputs": [
    {
     "name": "stdout",
     "output_type": "stream",
     "text": [
      "Enter a number:2\n",
      "Enter one more number:3\n"
     ]
    },
    {
     "data": {
      "text/plain": [
       "15"
      ]
     },
     "execution_count": 21,
     "metadata": {},
     "output_type": "execute_result"
    }
   ],
   "source": [
    "def default_argument_function(x,y,z=10):         # here z=10 is keyword argument\n",
    "    return x+y+z\n",
    "x=int(input(\"Enter a number:\"))\n",
    "y=int(input(\"Enter one more number:\"))\n",
    "\n",
    "default_argument_function(x,y)\n"
   ]
  },
  {
   "cell_type": "code",
   "execution_count": 22,
   "metadata": {},
   "outputs": [
    {
     "name": "stdout",
     "output_type": "stream",
     "text": [
      "Enter a number:1\n",
      "Enter one more number:2\n"
     ]
    },
    {
     "data": {
      "text/plain": [
       "23"
      ]
     },
     "execution_count": 22,
     "metadata": {},
     "output_type": "execute_result"
    }
   ],
   "source": [
    "def default(x,y,z=20):\n",
    "    return x+y+z\n",
    "x=int(input(\"Enter a number:\"))\n",
    "y=int(input(\"Enter one more number:\"))\n",
    "default(x,y)"
   ]
  },
  {
   "cell_type": "code",
   "execution_count": 25,
   "metadata": {},
   "outputs": [
    {
     "name": "stdout",
     "output_type": "stream",
     "text": [
      "Elon Musk is 50 years old.\n"
     ]
    }
   ],
   "source": [
    "def print_details (name='Elon Musk', age=50):\n",
    "    print(f'{name} is {age} years old.')\n",
    "print_details()                                   # f here is used to apply the function which we have created into the print."
   ]
  },
  {
   "cell_type": "code",
   "execution_count": 26,
   "metadata": {},
   "outputs": [
    {
     "data": {
      "text/plain": [
       "7"
      ]
     },
     "execution_count": 26,
     "metadata": {},
     "output_type": "execute_result"
    }
   ],
   "source": [
    "def add_two( b, a=2):\n",
    "    sum = a + b\n",
    "    return sum     # the default argument must be given after every non default argument\n",
    "add_two(5)"
   ]
  },
  {
   "cell_type": "code",
   "execution_count": 27,
   "metadata": {},
   "outputs": [
    {
     "data": {
      "text/plain": [
       "7"
      ]
     },
     "execution_count": 27,
     "metadata": {},
     "output_type": "execute_result"
    }
   ],
   "source": [
    "def add_two(b, a=2):\n",
    "    sum = b + a\n",
    "    return sum\n",
    "add_two(5)\n"
   ]
  },
  {
   "cell_type": "markdown",
   "metadata": {},
   "source": [
    "# 4.Variable Length Argument Function\n",
    "We can pass variable number of arguments to our function.    \n",
    "The special syntax (*args) in function definitions in Python is used to pass a variable number of arguments to a function.\n",
    "   "
   ]
  },
  {
   "cell_type": "code",
   "execution_count": 30,
   "metadata": {},
   "outputs": [
    {
     "data": {
      "text/plain": [
       "30"
      ]
     },
     "execution_count": 30,
     "metadata": {},
     "output_type": "execute_result"
    }
   ],
   "source": [
    "def variable_length_argument(*var):\n",
    "    return sum(var)\n",
    "\n",
    "variable_length_argument(10,20)"
   ]
  },
  {
   "cell_type": "code",
   "execution_count": 34,
   "metadata": {
    "scrolled": false
   },
   "outputs": [
    {
     "name": "stdout",
     "output_type": "stream",
     "text": [
      "(11, 20, 30, 40, 50, 60, 70, 1)\n",
      "60 70 1\n"
     ]
    }
   ],
   "source": [
    "def variable_length_argument(*var):\n",
    "    print(var)\n",
    "    x,y,z,a,b,c,d,e=var\n",
    "    print(c,d,e)\n",
    "variable_length_argument(11,20,30,40,50,60,70,1)"
   ]
  },
  {
   "cell_type": "code",
   "execution_count": 35,
   "metadata": {
    "scrolled": true
   },
   "outputs": [
    {
     "name": "stdout",
     "output_type": "stream",
     "text": [
      "10 20\n",
      "20 10\n"
     ]
    }
   ],
   "source": [
    "#Swapping the numbers with temp variable\n",
    "def Swaping_Numbers(x,y):\n",
    "    print(x,y)\n",
    "    temp=x\n",
    "    x=y\n",
    "    y=temp\n",
    "    \n",
    "    print(x,y)\n",
    "Swaping_Numbers(10,20)"
   ]
  },
  {
   "cell_type": "code",
   "execution_count": 36,
   "metadata": {
    "scrolled": true
   },
   "outputs": [
    {
     "name": "stdout",
     "output_type": "stream",
     "text": [
      "10 20\n",
      "20 10\n"
     ]
    }
   ],
   "source": [
    "#swaping the numbers without temp variable\n",
    "def Swaping_numbers_without_temp_var(x,y):\n",
    "    print(x,y)\n",
    "    x=x+y  #30  \n",
    "    y=x-y  #10\n",
    "    x=x-y  #20\n",
    "    print(x,y)\n",
    "Swaping_numbers_without_temp_var(10,20)    "
   ]
  },
  {
   "cell_type": "code",
   "execution_count": 37,
   "metadata": {},
   "outputs": [
    {
     "name": "stdout",
     "output_type": "stream",
     "text": [
      "11 * 1 = 11\n",
      "11 * 2 = 22\n",
      "11 * 3 = 33\n",
      "11 * 4 = 44\n",
      "11 * 5 = 55\n",
      "11 * 6 = 66\n",
      "11 * 7 = 77\n",
      "11 * 8 = 88\n",
      "11 * 9 = 99\n",
      "11 * 10 = 110\n"
     ]
    }
   ],
   "source": [
    "#Getting tables\n",
    "def Tables(x):\n",
    "    for i in range(1,11):\n",
    "        num=x*i\n",
    "        print(x,\"*\",i,\"=\",num)\n",
    "Tables(11)"
   ]
  },
  {
   "cell_type": "markdown",
   "metadata": {},
   "source": [
    "# 5. Anonymous Functions\n",
    "Python Lambda Functions are anonymous function means that the function is without a name.       \n",
    "As we already know that the def keyword is used to define a normal function in Python.            \n",
    "Similarly, the lambda keyword is used to define an anonymous function in Python.            \n",
    "Syntax---> lambda arguments: expression."
   ]
  },
  {
   "cell_type": "code",
   "execution_count": 39,
   "metadata": {},
   "outputs": [
    {
     "name": "stdout",
     "output_type": "stream",
     "text": [
      "9\n"
     ]
    }
   ],
   "source": [
    "def vals(x,y,z):\n",
    "    print(x+y+z)\n",
    "vals(2,3,4)"
   ]
  },
  {
   "cell_type": "code",
   "execution_count": 40,
   "metadata": {},
   "outputs": [
    {
     "data": {
      "text/plain": [
       "9"
      ]
     },
     "execution_count": 40,
     "metadata": {},
     "output_type": "execute_result"
    }
   ],
   "source": [
    "#variable=lambda Arguments:Expression\n",
    "#variable(Arguments)\n",
    "\n",
    "p = lambda x,y,z : x+y+z\n",
    "\n",
    "p(2,3,4)"
   ]
  },
  {
   "cell_type": "code",
   "execution_count": 41,
   "metadata": {},
   "outputs": [
    {
     "data": {
      "text/plain": [
       "125"
      ]
     },
     "execution_count": 41,
     "metadata": {},
     "output_type": "execute_result"
    }
   ],
   "source": [
    "def cube(y):\n",
    "    return y*y*y\n",
    "cube(5)"
   ]
  },
  {
   "cell_type": "code",
   "execution_count": 42,
   "metadata": {},
   "outputs": [
    {
     "data": {
      "text/plain": [
       "125"
      ]
     },
     "execution_count": 42,
     "metadata": {},
     "output_type": "execute_result"
    }
   ],
   "source": [
    "z=lambda y:y*y*y\n",
    "z(5)"
   ]
  },
  {
   "cell_type": "code",
   "execution_count": 43,
   "metadata": {},
   "outputs": [
    {
     "data": {
      "text/plain": [
       "18"
      ]
     },
     "execution_count": 43,
     "metadata": {},
     "output_type": "execute_result"
    }
   ],
   "source": [
    "a=lambda x,y: x*y\n",
    "a(2,9)"
   ]
  },
  {
   "cell_type": "markdown",
   "metadata": {
    "scrolled": true
   },
   "source": [
    "# 6. Fiter Functions\n",
    "We can use filter() function to filter values from the given sequence based on some condition.       \n",
    "Syntax---->filter(function,sequence)      \n",
    "where, function argument is responsible to perform conditional check      \n",
    "sequence can be list or tuple or string.      "
   ]
  },
  {
   "cell_type": "code",
   "execution_count": 44,
   "metadata": {},
   "outputs": [
    {
     "name": "stdout",
     "output_type": "stream",
     "text": [
      "['name', 'Nishar', 'nisha']\n"
     ]
    }
   ],
   "source": [
    "a=['my','name','is','Nishar','they', 'also', 'call', 'me', 'nisha']\n",
    "subset=list(filter(lambda x : x.lower().startswith('n'),a))\n",
    "print(subset)"
   ]
  },
  {
   "cell_type": "code",
   "execution_count": 45,
   "metadata": {},
   "outputs": [
    {
     "name": "stdout",
     "output_type": "stream",
     "text": [
      "['DIMPLE']\n"
     ]
    }
   ],
   "source": [
    "a=['Iam', 'DIMPLE']\n",
    "subset= list(filter(lambda x : x.upper().endswith('E'),a))\n",
    "print(subset)"
   ]
  },
  {
   "cell_type": "code",
   "execution_count": 46,
   "metadata": {},
   "outputs": [
    {
     "name": "stdout",
     "output_type": "stream",
     "text": [
      "[5, 7, 97, 77, 23, 73, 61]\n"
     ]
    }
   ],
   "source": [
    "b=[5,7,22,97,54,62,77,23,73,61]\n",
    "li= list(filter(lambda x : x % 2 !=0 , b))\n",
    "print(li)"
   ]
  },
  {
   "cell_type": "code",
   "execution_count": 48,
   "metadata": {},
   "outputs": [
    {
     "name": "stdout",
     "output_type": "stream",
     "text": [
      "[1, 2, 3]\n"
     ]
    }
   ],
   "source": [
    "a=[1,2,3,4,5]\n",
    "subset=list(filter(lambda x : x<4, a))\n",
    "print(subset)"
   ]
  },
  {
   "cell_type": "markdown",
   "metadata": {},
   "source": [
    "# 7. Map Functions\n",
    "For every element present in the given sequence, apply some functionality and generate new element with the required modification.            \n",
    "For this requirement we should go for map() function.         \n",
    "Syntax-----> map(function,sequence)        \n",
    "The function can be applied on each element of sequence and generates new sequence."
   ]
  },
  {
   "cell_type": "code",
   "execution_count": 49,
   "metadata": {
    "scrolled": false
   },
   "outputs": [
    {
     "data": {
      "text/plain": [
       "[2, 4, 6, 8, 10, 12, 14, 16, 18]"
      ]
     },
     "execution_count": 49,
     "metadata": {},
     "output_type": "execute_result"
    }
   ],
   "source": [
    "values=[1,2,3,4,5,6,7,8,9]\n",
    "mapping_vals=list(map(lambda x: x*2,values))\n",
    "mapping_vals"
   ]
  },
  {
   "cell_type": "code",
   "execution_count": 50,
   "metadata": {},
   "outputs": [
    {
     "data": {
      "text/plain": [
       "[1, 4, 9, 16, 25]"
      ]
     },
     "execution_count": 50,
     "metadata": {},
     "output_type": "execute_result"
    }
   ],
   "source": [
    "z=[1,2,3,4,5]\n",
    "square= list(map(lambda x : (x**2),z))\n",
    "square"
   ]
  },
  {
   "cell_type": "code",
   "execution_count": 52,
   "metadata": {},
   "outputs": [
    {
     "name": "stdout",
     "output_type": "stream",
     "text": [
      "a#b#c\n",
      "a\n",
      "b\n",
      "c\n"
     ]
    }
   ],
   "source": [
    "x,y,z=map(str,input().split('#'))\n",
    "print(x)\n",
    "print(y)\n",
    "print(z)"
   ]
  },
  {
   "cell_type": "markdown",
   "metadata": {},
   "source": [
    "# 8. Reduce Functions\n",
    "reduce() function reduces sequence of elements into a single element by applying the specified function.          \n",
    "reduce(function,sequence)          \n",
    "reduce() function is present in functools module and hence we should write import statement.          "
   ]
  },
  {
   "cell_type": "code",
   "execution_count": 54,
   "metadata": {},
   "outputs": [
    {
     "name": "stdout",
     "output_type": "stream",
     "text": [
      "6\n"
     ]
    }
   ],
   "source": [
    "from functools import reduce\n",
    "vals=[1,2,3]\n",
    "reduce_vals=reduce((lambda x,y:x+y),vals)\n",
    "print(reduce_vals)"
   ]
  },
  {
   "cell_type": "code",
   "execution_count": 55,
   "metadata": {},
   "outputs": [
    {
     "name": "stdout",
     "output_type": "stream",
     "text": [
      "10\n",
      "30\n",
      "60\n",
      "100\n",
      "160\n"
     ]
    }
   ],
   "source": [
    "scores=[10,20,30,40,60]\n",
    "total = 0\n",
    "for score in scores:\n",
    "    total += score\n",
    "    print(total)"
   ]
  },
  {
   "cell_type": "code",
   "execution_count": 56,
   "metadata": {},
   "outputs": [
    {
     "name": "stdout",
     "output_type": "stream",
     "text": [
      "a=10, b=20, 10+20=30\n",
      "a=30, b=30, 30+30=60\n",
      "a=60, b=40, 60+40=100\n",
      "a=100, b=60, 100+60=160\n",
      "160\n"
     ]
    }
   ],
   "source": [
    "from functools import reduce\n",
    "def sum (a,b):\n",
    "    print (f'a={a}, b={b}, {a}+{b}={a+b}')\n",
    "    return a + b\n",
    "total = reduce(sum,scores)\n",
    "print(total)  "
   ]
  },
  {
   "cell_type": "code",
   "execution_count": 57,
   "metadata": {},
   "outputs": [
    {
     "name": "stdout",
     "output_type": "stream",
     "text": [
      "160\n"
     ]
    }
   ],
   "source": [
    "from functools import reduce\n",
    "total= reduce(lambda a,b:a+b,scores)\n",
    "print(total)"
   ]
  },
  {
   "cell_type": "markdown",
   "metadata": {},
   "source": [
    "# GENERATORS\n",
    "It is indicated with 'yield' keyword.      \n",
    "It is used instead of return statement.      \n",
    "gen fun contains one or more yield function     \n",
    "when called, it returns the iterator but does not executes immediately.                                   \n",
    "methods like next() are implemented automatically, so we can iterate the items using next() function           \n",
    "once the function is yields the function is paused and control is transferred to the caller.             \n",
    "local variables and their states are remembered between sucessive calls.                        \n",
    "Finally wen the function terminates stop iteration is raised automatically on further calls.        "
   ]
  },
  {
   "cell_type": "code",
   "execution_count": 59,
   "metadata": {},
   "outputs": [],
   "source": [
    "def gen():\n",
    "    n=1\n",
    "    print('This is my first yield')   #generator functions contains yield statement\n",
    "    yield n\n",
    "    n +=1\n",
    "    print('This is my second yield')\n",
    "    yield n\n",
    "    n +=1\n",
    "    print('This is my third yield')\n",
    "    yield n"
   ]
  },
  {
   "cell_type": "code",
   "execution_count": 60,
   "metadata": {},
   "outputs": [],
   "source": [
    "a=gen()"
   ]
  },
  {
   "cell_type": "code",
   "execution_count": 61,
   "metadata": {},
   "outputs": [
    {
     "name": "stdout",
     "output_type": "stream",
     "text": [
      "This is my first yield\n"
     ]
    },
    {
     "data": {
      "text/plain": [
       "1"
      ]
     },
     "execution_count": 61,
     "metadata": {},
     "output_type": "execute_result"
    }
   ],
   "source": [
    "next(a)"
   ]
  },
  {
   "cell_type": "code",
   "execution_count": 62,
   "metadata": {},
   "outputs": [
    {
     "name": "stdout",
     "output_type": "stream",
     "text": [
      "This is my second yield\n"
     ]
    },
    {
     "data": {
      "text/plain": [
       "2"
      ]
     },
     "execution_count": 62,
     "metadata": {},
     "output_type": "execute_result"
    }
   ],
   "source": [
    "next(a)"
   ]
  },
  {
   "cell_type": "code",
   "execution_count": 63,
   "metadata": {},
   "outputs": [
    {
     "name": "stdout",
     "output_type": "stream",
     "text": [
      "This is my third yield\n"
     ]
    },
    {
     "data": {
      "text/plain": [
       "3"
      ]
     },
     "execution_count": 63,
     "metadata": {},
     "output_type": "execute_result"
    }
   ],
   "source": [
    "next(a)"
   ]
  },
  {
   "cell_type": "code",
   "execution_count": 64,
   "metadata": {},
   "outputs": [
    {
     "ename": "StopIteration",
     "evalue": "",
     "output_type": "error",
     "traceback": [
      "\u001b[1;31m---------------------------------------------------------------------------\u001b[0m",
      "\u001b[1;31mStopIteration\u001b[0m                             Traceback (most recent call last)",
      "Cell \u001b[1;32mIn[64], line 1\u001b[0m\n\u001b[1;32m----> 1\u001b[0m \u001b[38;5;28;43mnext\u001b[39;49m\u001b[43m(\u001b[49m\u001b[43ma\u001b[49m\u001b[43m)\u001b[49m\n",
      "\u001b[1;31mStopIteration\u001b[0m: "
     ]
    }
   ],
   "source": [
    "next(a)"
   ]
  },
  {
   "cell_type": "code",
   "execution_count": null,
   "metadata": {},
   "outputs": [],
   "source": []
  }
 ],
 "metadata": {
  "kernelspec": {
   "display_name": "Python 3 (ipykernel)",
   "language": "python",
   "name": "python3"
  },
  "language_info": {
   "codemirror_mode": {
    "name": "ipython",
    "version": 3
   },
   "file_extension": ".py",
   "mimetype": "text/x-python",
   "name": "python",
   "nbconvert_exporter": "python",
   "pygments_lexer": "ipython3",
   "version": "3.10.9"
  }
 },
 "nbformat": 4,
 "nbformat_minor": 4
}
